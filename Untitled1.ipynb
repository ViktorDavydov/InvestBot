{
  "nbformat": 4,
  "nbformat_minor": 0,
  "metadata": {
    "colab": {
      "provenance": [],
      "authorship_tag": "ABX9TyMA6EeANu6xc6GIpvM6xckg",
      "include_colab_link": true
    },
    "kernelspec": {
      "name": "python3",
      "display_name": "Python 3"
    },
    "language_info": {
      "name": "python"
    }
  },
  "cells": [
    {
      "cell_type": "markdown",
      "metadata": {
        "id": "view-in-github",
        "colab_type": "text"
      },
      "source": [
        "<a href=\"https://colab.research.google.com/github/ViktorDavydov/InvestBot/blob/dev/Untitled1.ipynb\" target=\"_parent\"><img src=\"https://colab.research.google.com/assets/colab-badge.svg\" alt=\"Open In Colab\"/></a>"
      ]
    },
    {
      "cell_type": "code",
      "execution_count": null,
      "metadata": {
        "id": "7PTJgNQH8EES"
      },
      "outputs": [],
      "source": [
        "import telebot\n",
        "from telebot import types\n",
        "token = \"6436709903:AAFzn9x4EJHdnVq4kBRtOSaCrUJrfKNOW1A\"\n",
        "\n",
        "bot = telebot.TeleBot(token)\n",
        "\n",
        "@bot.message_handler(commands=['start'])\n",
        "def start_message(message):\n",
        "  bot.send_message(message.chat.id, \"Привет! Нажми /button\")\n",
        "\n",
        "@bot.message_handler(commands=['button'])\n",
        "def button_message(message):\n",
        "  markup = types.ReplyKeyboardMarkup(resize_keyboard=True)\n",
        "  item1 = types.KeyboardButton(\"Кнопка любви\")\n",
        "  markup.add(item1)\n",
        "  bot.send_message(message.chat.id, \"А теперь нажми на кнопку любви!\", reply_markup=markup)\n",
        "\n",
        "@bot.message_handler(content_types='text')\n",
        "def button_reply(message):\n",
        "  if message.text == \"Кнопка любви\":\n",
        "    bot.send_photo(message.chat.id, photo = \"https://cdn.otkritkiok.ru/posts/big/volsebnaya-animacionnaya-otkrytka-ya-lyublyu-tebya-166258.jpg\")\n",
        "\n",
        "bot.infinity_polling()\n",
        "\n"
      ]
    }
  ]
}