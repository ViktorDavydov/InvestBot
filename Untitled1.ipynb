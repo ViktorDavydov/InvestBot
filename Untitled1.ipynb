{
  "nbformat": 4,
  "nbformat_minor": 0,
  "metadata": {
    "colab": {
      "provenance": [],
      "authorship_tag": "ABX9TyNTumKcvysgFSHhtBUSq3k/",
      "include_colab_link": true
    },
    "kernelspec": {
      "name": "python3",
      "display_name": "Python 3"
    },
    "language_info": {
      "name": "python"
    }
  },
  "cells": [
    {
      "cell_type": "markdown",
      "metadata": {
        "id": "view-in-github",
        "colab_type": "text"
      },
      "source": [
        "<a href=\"https://colab.research.google.com/github/ViktorDavydov/InvestBot/blob/dev/Untitled1.ipynb\" target=\"_parent\"><img src=\"https://colab.research.google.com/assets/colab-badge.svg\" alt=\"Open In Colab\"/></a>"
      ]
    },
    {
      "cell_type": "code",
      "execution_count": 41,
      "metadata": {
        "colab": {
          "base_uri": "https://localhost:8080/"
        },
        "id": "7PTJgNQH8EES",
        "outputId": "ba7750b6-842b-4820-bf3e-3aacb73f7581"
      },
      "outputs": [
        {
          "output_type": "stream",
          "name": "stderr",
          "text": [
            "2023-11-02 14:57:05,680 (__init__.py:966 MainThread) ERROR - TeleBot: \"Infinity polling: polling exited\"\n",
            "ERROR:TeleBot:Infinity polling: polling exited\n",
            "2023-11-02 14:57:05,684 (__init__.py:968 MainThread) ERROR - TeleBot: \"Break infinity polling\"\n",
            "ERROR:TeleBot:Break infinity polling\n"
          ]
        }
      ],
      "source": [
        "import telebot\n",
        "from telebot import types\n",
        "token = \"6436709903:AAFzn9x4EJHdnVq4kBRtOSaCrUJrfKNOW1A\"\n",
        "\n",
        "bot = telebot.TeleBot(token)\n",
        "\n",
        "@bot.message_handler(commands=['start'])\n",
        "def start_message(message):\n",
        "  bot.send_message(message.chat.id, \"Привет! Нажми /button\")\n",
        "\n",
        "@bot.message_handler(commands=['button'])\n",
        "def button_message(message):\n",
        "  markup = types.ReplyKeyboardMarkup(resize_keyboard=True)\n",
        "  item1 = types.KeyboardButton(\"Кнопка любви\")\n",
        "  item2 = types.KeyboardButton(\"Кнопка милости\")\n",
        "  item3 = types.KeyboardButton(\"Кнопка грусти\")\n",
        "  item4 = types.KeyboardButton(\"Кнопка любопытства\")\n",
        "  markup.add(item1)\n",
        "  markup.add(item2)\n",
        "  markup.add(item3)\n",
        "  markup.add(item4)\n",
        "  bot.send_message(message.chat.id, \"А теперь выбери кнопку!\", reply_markup=markup)\n",
        "\n",
        "@bot.message_handler(content_types='text')\n",
        "def button_reply(message):\n",
        "  if message.text == \"Кнопка любви\":\n",
        "    bot.send_photo(message.chat.id, photo = \"https://cdn.otkritkiok.ru/posts/big/volsebnaya-animacionnaya-otkrytka-ya-lyublyu-tebya-166258.jpg\")\n",
        "  elif message.text == \"Кнопка любопытства\":\n",
        "    bot.send_photo(message.chat.id, photo = \"https://photos.app.goo.gl/8JXzm1TXVcZBKHnb6\")\n",
        "  elif message.text == \"Кнопка грусти\":\n",
        "    bot.send_photo(message.chat.id, photo = \"https://photos.app.goo.gl/4CvMETkDDsDZKQQi8\")\n",
        "    bot.send_photo(message.chat.id, photo = \"https://photos.app.goo.gl/ohyfsWmfbPBnmPFA8\")\n",
        "  elif message.text == \"Кнопка милости\":\n",
        "    bot.send_photo(message.chat.id, photo = \"https://photos.app.goo.gl/EAEKuvSN4w85YNMo9\")\n",
        "bot.infinity_polling()\n",
        "\n"
      ]
    }
  ]
}